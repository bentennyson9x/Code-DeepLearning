{
 "cells": [
  {
   "cell_type": "code",
   "execution_count": null,
   "metadata": {},
   "outputs": [],
   "source": [
    "import numpy as np\n",
    "from scipy.io import wavfile\n",
    "import matplotlib.pyplot as plt\n",
    " \n",
    "DIR = 'input'\n",
    "fns = ['/off/00b01445_nohash_0.wav',\n",
    "       '/go/00b01445_nohash_0.wav',\n",
    "       '/yes/00f0204f_nohash_0.wav']\n",
    "SAMPLE_RATE = 16000\n",
    " \n",
    "def read_wav_file(x):\n",
    "    # Read wavfile using scipy wavfile.read\n",
    "    _, wav = wavfile.read(x) \n",
    "    # Normalize\n",
    "    wav = wav.astype(np.float32) / np.iinfo(np.int16).max\n",
    "        \n",
    "    return wav\n",
    " \n",
    "fig = plt.figure(figsize=(14, 8))\n",
    "for i, fn in enumerate(fns):\n",
    "    wav = read_wav_file(DIR + fn)\n",
    " \n",
    "    ax = fig.add_subplot(3,1,i+1)\n",
    "    ax.set_title('Raw wave of ' + fn)\n",
    "    ax.set_ylabel('Amplitude')\n",
    "    ax.plot(np.linspace(0, SAMPLE_RATE/len(wav), SAMPLE_RATE), wav)\n",
    "fig.tight_layout()"
   ]
  },
  {
   "cell_type": "code",
   "execution_count": null,
   "metadata": {},
   "outputs": [],
   "source": []
  },
  {
   "cell_type": "code",
   "execution_count": null,
   "metadata": {},
   "outputs": [],
   "source": []
  },
  {
   "cell_type": "code",
   "execution_count": null,
   "metadata": {},
   "outputs": [],
   "source": []
  },
  {
   "cell_type": "code",
   "execution_count": null,
   "metadata": {},
   "outputs": [],
   "source": []
  },
  {
   "cell_type": "code",
   "execution_count": null,
   "metadata": {},
   "outputs": [],
   "source": []
  },
  {
   "cell_type": "code",
   "execution_count": null,
   "metadata": {},
   "outputs": [],
   "source": []
  }
 ],
 "metadata": {
  "kernelspec": {
   "display_name": "Python 3",
   "language": "python",
   "name": "python3"
  },
  "language_info": {
   "codemirror_mode": {
    "name": "ipython",
    "version": 3
   },
   "file_extension": ".py",
   "mimetype": "text/x-python",
   "name": "python",
   "nbconvert_exporter": "python",
   "pygments_lexer": "ipython3",
   "version": "3.7.2"
  }
 },
 "nbformat": 4,
 "nbformat_minor": 2
}
